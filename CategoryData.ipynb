{
 "cells": [
  {
   "cell_type": "code",
   "execution_count": 1,
   "metadata": {},
   "outputs": [],
   "source": [
    "import bs4\n",
    "import requests\n",
    "import pandas as pd\n",
    "\n",
    "r = requests.get('https://www.jobindex.dk')\n",
    "r.raise_for_status()\n",
    "soup = bs4.BeautifulSoup(r.text, 'html.parser')"
   ]
  },
  {
   "cell_type": "code",
   "execution_count": 2,
   "metadata": {},
   "outputs": [
    {
     "name": "stdout",
     "output_type": "stream",
     "text": [
      "['/job/it', '/job/ingenioer', '/job/ledelse', '/job/handel', '/job/industri', '/job/salg', '/job/undervisning', '/job/kontor', '/job/social', '/job/oevrige']\n"
     ]
    }
   ],
   "source": [
    "sectionSoup = soup.find(class_=\"job-categories bg-light d-none d-lg-block mb-5 mb-lg-7\")\n",
    "categories = sectionSoup.find_all(class_=\"category\")\n",
    "\n",
    "categoryLinkList = []\n",
    "\n",
    "for e in categories:\n",
    "    categoryLinkList.append(e[\"href\"])\n",
    "print(categoryLinkList)"
   ]
  },
  {
   "cell_type": "code",
   "execution_count": 3,
   "metadata": {},
   "outputs": [
    {
     "name": "stdout",
     "output_type": "stream",
     "text": [
      "['In\\xadfor\\xadma\\xadtions\\xadtek\\xadno\\xadlo\\xadgi', 'Ingeniørogteknik', 'Ledelseogpersonale', 'Handelogservice', 'Industrioghåndværk', 'Salgogkom\\xadmu\\xadni\\xadka\\xadtion', 'Un\\xadder\\xadvis\\xadning', 'Kontorogøkonomi', 'Socialogsundhed', 'Øvrigestil\\xadlin\\xadger']\n"
     ]
    }
   ],
   "source": [
    "digits=\"0123456789\"\n",
    "\n",
    "categoriesList = []\n",
    "\n",
    "for e in categories:\n",
    "    categoriesText=\"\"\n",
    "    for i in e.text:\n",
    "        if(i in digits):\n",
    "            break\n",
    "        else:\n",
    "            categoriesText+=i\n",
    "    categoriesList.append(categoriesText.replace(\"\\n\",\"\").replace(\" \", \"\"))\n",
    "print(categoriesList)"
   ]
  },
  {
   "cell_type": "code",
   "execution_count": 4,
   "metadata": {},
   "outputs": [
    {
     "name": "stdout",
     "output_type": "stream",
     "text": [
      "['IT-supporter, sy\\xadstem\\xadud\\xadvik\\xadling', 'Ma\\xadskin\\xadme\\xadster, far\\xadma\\xadko\\xadnom', 'Pro\\xadjekt\\xadle\\xadder, per\\xadso\\xadna\\xadle\\xadansvar\\xadlig', 'Kok, salgs\\xadas\\xadsi\\xadstent, rengøring', 'Elek\\xadtri\\xadker, chauffør, bager', 'Salgs\\xadkon\\xadsu\\xadlent, jour\\xadna\\xadlist, kul\\xadtur\\xadfor\\xadmid\\xadler', 'Pædagog, forsker, lærer', 'Re\\xadcep\\xadtio\\xadnist, jurist, bogholder', 'Sy\\xadgeple\\xadjer\\xadske, so\\xadci\\xadal\\xadrå\\xadd\\xadgi\\xadver, læge', 'Elev\\xadplad\\xadser, studiejob, praktik']\n"
     ]
    }
   ],
   "source": [
    "categoryTags = sectionSoup.find_all(class_=\"category-tags\")\n",
    "\n",
    "categoryTagsList = []\n",
    "\n",
    "for e in categoryTags:\n",
    "    categoryTagsList.append(e.text)\n",
    "print(categoryTagsList)\n"
   ]
  },
  {
   "cell_type": "code",
   "execution_count": 5,
   "metadata": {},
   "outputs": [
    {
     "name": "stdout",
     "output_type": "stream",
     "text": [
      "['1381', '2199', '2703', '2538', '2891', '1417', '2907', '3684', '2479', '2812']\n"
     ]
    }
   ],
   "source": [
    "categoryCount = sectionSoup.find_all(class_=\"d-inline counter\")\n",
    "\n",
    "categoryCountList = []\n",
    "\n",
    "for e in categoryCount:\n",
    "    categoryCountList.append(e.text)\n",
    "print(categoryCountList)"
   ]
  },
  {
   "cell_type": "code",
   "execution_count": 6,
   "metadata": {},
   "outputs": [
    {
     "data": {
      "text/html": [
       "<div>\n",
       "<style scoped>\n",
       "    .dataframe tbody tr th:only-of-type {\n",
       "        vertical-align: middle;\n",
       "    }\n",
       "\n",
       "    .dataframe tbody tr th {\n",
       "        vertical-align: top;\n",
       "    }\n",
       "\n",
       "    .dataframe thead th {\n",
       "        text-align: right;\n",
       "    }\n",
       "</style>\n",
       "<table border=\"1\" class=\"dataframe\">\n",
       "  <thead>\n",
       "    <tr style=\"text-align: right;\">\n",
       "      <th></th>\n",
       "      <th>Kategorier</th>\n",
       "      <th>Tags</th>\n",
       "      <th>Ledige jobs</th>\n",
       "    </tr>\n",
       "  </thead>\n",
       "  <tbody>\n",
       "    <tr>\n",
       "      <th>0</th>\n",
       "      <td>In­for­ma­tions­tek­no­lo­gi</td>\n",
       "      <td>IT-supporter, sy­stem­ud­vik­ling</td>\n",
       "      <td>1381</td>\n",
       "    </tr>\n",
       "    <tr>\n",
       "      <th>1</th>\n",
       "      <td>Ingeniørogteknik</td>\n",
       "      <td>Ma­skin­me­ster, far­ma­ko­nom</td>\n",
       "      <td>2199</td>\n",
       "    </tr>\n",
       "    <tr>\n",
       "      <th>2</th>\n",
       "      <td>Ledelseogpersonale</td>\n",
       "      <td>Pro­jekt­le­der, per­so­na­le­ansvar­lig</td>\n",
       "      <td>2703</td>\n",
       "    </tr>\n",
       "    <tr>\n",
       "      <th>3</th>\n",
       "      <td>Handelogservice</td>\n",
       "      <td>Kok, salgs­as­si­stent, rengøring</td>\n",
       "      <td>2538</td>\n",
       "    </tr>\n",
       "    <tr>\n",
       "      <th>4</th>\n",
       "      <td>Industrioghåndværk</td>\n",
       "      <td>Elek­tri­ker, chauffør, bager</td>\n",
       "      <td>2891</td>\n",
       "    </tr>\n",
       "    <tr>\n",
       "      <th>5</th>\n",
       "      <td>Salgogkom­mu­ni­ka­tion</td>\n",
       "      <td>Salgs­kon­su­lent, jour­na­list, kul­tur­for­m...</td>\n",
       "      <td>1417</td>\n",
       "    </tr>\n",
       "    <tr>\n",
       "      <th>6</th>\n",
       "      <td>Un­der­vis­ning</td>\n",
       "      <td>Pædagog, forsker, lærer</td>\n",
       "      <td>2907</td>\n",
       "    </tr>\n",
       "    <tr>\n",
       "      <th>7</th>\n",
       "      <td>Kontorogøkonomi</td>\n",
       "      <td>Re­cep­tio­nist, jurist, bogholder</td>\n",
       "      <td>3684</td>\n",
       "    </tr>\n",
       "    <tr>\n",
       "      <th>8</th>\n",
       "      <td>Socialogsundhed</td>\n",
       "      <td>Sy­geple­jer­ske, so­ci­al­rå­d­gi­ver, læge</td>\n",
       "      <td>2479</td>\n",
       "    </tr>\n",
       "    <tr>\n",
       "      <th>9</th>\n",
       "      <td>Øvrigestil­lin­ger</td>\n",
       "      <td>Elev­plad­ser, studiejob, praktik</td>\n",
       "      <td>2812</td>\n",
       "    </tr>\n",
       "  </tbody>\n",
       "</table>\n",
       "</div>"
      ],
      "text/plain": [
       "                     Kategorier  \\\n",
       "0  In­for­ma­tions­tek­no­lo­gi   \n",
       "1              Ingeniørogteknik   \n",
       "2            Ledelseogpersonale   \n",
       "3               Handelogservice   \n",
       "4            Industrioghåndværk   \n",
       "5       Salgogkom­mu­ni­ka­tion   \n",
       "6               Un­der­vis­ning   \n",
       "7               Kontorogøkonomi   \n",
       "8               Socialogsundhed   \n",
       "9            Øvrigestil­lin­ger   \n",
       "\n",
       "                                                Tags Ledige jobs  \n",
       "0                  IT-supporter, sy­stem­ud­vik­ling        1381  \n",
       "1                     Ma­skin­me­ster, far­ma­ko­nom        2199  \n",
       "2           Pro­jekt­le­der, per­so­na­le­ansvar­lig        2703  \n",
       "3                  Kok, salgs­as­si­stent, rengøring        2538  \n",
       "4                      Elek­tri­ker, chauffør, bager        2891  \n",
       "5  Salgs­kon­su­lent, jour­na­list, kul­tur­for­m...        1417  \n",
       "6                            Pædagog, forsker, lærer        2907  \n",
       "7                 Re­cep­tio­nist, jurist, bogholder        3684  \n",
       "8       Sy­geple­jer­ske, so­ci­al­rå­d­gi­ver, læge        2479  \n",
       "9                  Elev­plad­ser, studiejob, praktik        2812  "
      ]
     },
     "execution_count": 6,
     "metadata": {},
     "output_type": "execute_result"
    }
   ],
   "source": [
    "dataList = {'Kategorier': categoriesList,\n",
    "            'Tags': categoryTagsList,\n",
    "            'Ledige jobs': categoryCountList}\n",
    "categoryData = pd.DataFrame(dataList)\n",
    "categoryData\n",
    "#categoryData.to_csv(\"csv/Kategorier.csv\", sep='\\t', encoding='utf-8')"
   ]
  },
  {
   "cell_type": "code",
   "execution_count": 7,
   "metadata": {},
   "outputs": [],
   "source": [
    "requestList = []\n",
    "for i in range(len(categoryLinkList)):\n",
    "    r2 = requests.get('https://www.jobindex.dk' + categoryLinkList[i])\n",
    "    r2.raise_for_status()\n",
    "    soup2 = bs4.BeautifulSoup(r2.text, 'html.parser')\n",
    "    requestList.append(soup2)"
   ]
  },
  {
   "cell_type": "code",
   "execution_count": 8,
   "metadata": {},
   "outputs": [
    {
     "name": "stdout",
     "output_type": "stream",
     "text": [
      "['System\\xadud\\xadvik\\xadlingogpro\\xadgram\\xadme\\xadring', 'Økonomi-ogvirk\\xadsom\\xadheds\\xadsy\\xadste\\xadmer', 'IT-ledelse', 'IT-driftogsupport', 'InternetogWWW', 'Tele-ogda\\xadta\\xadkom\\xadmu\\xadni\\xadka\\xadtion', 'Database', 'IT-kurserforledige']\n",
      "['Bygge-ogan\\xadlægs\\xadtek\\xadnik', 'Medicinaloglev\\xadneds\\xadmid\\xaddel', 'Elek\\xadtro\\xadtek\\xadnik', 'Ma\\xadskin\\xadtek\\xadnik', 'Kemiogbioteknik', 'Ledelseindenforingeniørogteknik', 'Pro\\xadduk\\xadtions-ogpro\\xadces\\xadtek\\xadnik']\n",
      "['IT-ledelse', 'PersonaleogHR', 'Top\\xadle\\xaddel\\xadseogbe\\xadsty\\xadrel\\xadse', 'Ledelse', 'Fre\\xadelan\\xadce\\xadkon\\xadsu\\xadlent', 'Pro\\xadjekt\\xadle\\xaddel\\xadse', 'Salgs\\xadle\\xaddel\\xadse', 'In\\xadsti\\xadtu\\xadtions-ogskole\\xadle\\xaddel\\xadse', 'Øko\\xadno\\xadmi\\xadle\\xaddel\\xadse', 'HR-ogle\\xaddel\\xadses\\xadkur\\xadserforledige', 'Ledelseindenforingeniørogteknik', 'De\\xadtail\\xadle\\xaddel\\xadse', 'Virk\\xadsom\\xadheds\\xadud\\xadvik\\xadling']\n",
      "['Bør\\xadne\\xadpas\\xadning', 'Frisørogpersonligpleje', 'Hotel,re\\xadstau\\xadrantogkøkken', 'De\\xadtail\\xadhan\\xaddel', 'Service', 'Rengøring', 'Ejen\\xaddoms\\xadser\\xadvi\\xadce', 'Budogud\\xadbring\\xadning', 'Sikkerhed', 'De\\xadtail\\xadle\\xaddel\\xadse']\n",
      "['Byggeoganlæg', 'Landbrug,skovogfiskeri', 'Nærings-ogny\\xaddel\\xadses\\xadmid\\xaddel', 'Tømrerogsnedker', 'In\\xaddu\\xadstri\\xadelpro\\xadduk\\xadtion', 'Lager', 'Elek\\xadtri\\xadker', 'Transport', 'Jernogmetal', 'Tekstilogkunst\\xadhånd\\xadværk', 'Mekanikogauto', 'Blikogrør', 'Malingogover\\xadfla\\xadde\\xadbe\\xadhand\\xadling', 'Træ-ogmø\\xadbe\\xadlin\\xaddu\\xadstri']\n",
      "['Kom\\xadmu\\xadni\\xadka\\xadtionogjour\\xadna\\xadli\\xadstik', 'Marketing', 'Te\\xadle\\xadmar\\xadke\\xadting', 'Salg', 'Ejen\\xaddoms\\xadmæg\\xadler', 'Kulturogkirke', 'Salgs\\xadle\\xaddel\\xadse', 'Grafisk', 'Designogform\\xadgiv\\xadning', 'Salgs-ogkom\\xadmu\\xadni\\xadka\\xadtions\\xadkur\\xadserforledige', 'Selv\\xadstæn\\xaddigvirk\\xadsom\\xadheds\\xaddrift']\n",
      "['Pædagog', 'Lærer', 'Bibliotek', 'Forskning', 'In\\xadsti\\xadtu\\xadtions-ogskole\\xadle\\xaddel\\xadse', 'Vok\\xadse\\xadnud\\xaddan\\xadnel\\xadse']\n",
      "['Ejen\\xaddoms\\xadmæg\\xadler', 'Ejen\\xaddoms\\xadser\\xadvi\\xadce', 'Finansogfor\\xadsik\\xadring', 'Indkøb', 'Jura', 'Kontor', 'Kon\\xadto\\xadre\\xadlev', 'Logistikogspedition', 'Offentligad\\xadmi\\xadni\\xadstra\\xadtion', 'Over\\xadsæt\\xadtel\\xadseogsprog', 'Sekretærogreception', 'Økonomiogregnskab', 'Øko\\xadno\\xadmi\\xadle\\xaddel\\xadse', 'Kontor-ogøko\\xadno\\xadmi\\xadkur\\xadserforledige', 'Akademiskogpolitiskarbejde']\n",
      "['Læge', 'Sy\\xadgeple\\xadjer\\xadskeogjor\\xadde\\xadmo\\xadder', 'Offentligad\\xadmi\\xadni\\xadstra\\xadtion', 'Terapioggenop\\xadtræ\\xadning', 'Plejeogomsorg', 'Tandlægeogkli\\xadnik\\xadper\\xadso\\xadna\\xadle', 'Læ\\xadge\\xadse\\xadkre\\xadtær', 'So\\xadci\\xadal\\xadrå\\xadd\\xadgiv\\xadning', 'Psykologiogpsykiatri', 'Teknisksund\\xadheds\\xadar\\xadbej\\xadde']\n",
      "['Fri\\xadvil\\xadligtarbejde', 'Kon\\xadto\\xadre\\xadlev', 'Studiejobogfri\\xadtidsjob', 'Stu\\xaddi\\xade\\xadprak\\xadtik', 'Øvrige', 'Elev\\xadplad\\xadser', 'Øvrigekurserforledige', 'Forsvarogef\\xadter\\xadret\\xadning']\n"
     ]
    }
   ],
   "source": [
    "def categoriesFunction(request):\n",
    "    digits=\"0123456789\"\n",
    "\n",
    "    soupFromList = request\n",
    "\n",
    "    sectionSoup = soupFromList.find(class_=\"job-categories bg-light mb-5 mb-lg-7\")\n",
    "    categories = sectionSoup.find_all(class_=\"category\")\n",
    "    categoriesList = []\n",
    "\n",
    "    for e in categories:\n",
    "        categoriesText=\"\"\n",
    "        for i in e.text:\n",
    "            if(i in digits):\n",
    "                break\n",
    "            else:\n",
    "                categoriesText+=i\n",
    "        categoriesList.append(categoriesText.replace(\"\\n\",\"\").replace(\" \", \"\"))\n",
    "    return categoriesList\n",
    "\n",
    "for i in range(len(requestList)):\n",
    "    print(categoriesFunction(request=requestList[i]))"
   ]
  },
  {
   "cell_type": "code",
   "execution_count": 9,
   "metadata": {},
   "outputs": [
    {
     "name": "stdout",
     "output_type": "stream",
     "text": [
      "['Solution architect, softwa\\xadre\\xadud\\xadvik\\xadler', 'BI-spe\\xadci\\xada\\xadlist, Navision, SAP', 'IT-manager,  IT-pro\\xadjekt\\xadle\\xadder', 'IT-supporter, da\\xadta\\xadtek\\xadni\\xadker, IT-sikkerhed', 'Web\\xadde\\xadsig\\xadner, we\\xadb\\xadud\\xadvik\\xadler, webmaster', 'Te\\xadle\\xadtek\\xadni\\xadker, fi\\xadber\\xadtek\\xadni\\xadker', 'SQL-spe\\xadci\\xada\\xadlist, data engineer, data analyst', 'Databaser, SAP, ITIL, Web']\n",
      "['Byg\\xadnings\\xadkon\\xadstruk\\xadtør, arkitekt', 'Far\\xadma\\xadko\\xadnom, lev\\xadneds\\xadmid\\xaddel\\xadtek\\xadni\\xadker', 'Stærk\\xadstrøms\\xadin\\xadge\\xadni\\xadør, el-ingeniør', 'Ma\\xadskin\\xadme\\xadster, ma\\xadski\\xadnin\\xadge\\xadni\\xadør', 'Laborant, ke\\xadmi\\xadin\\xadge\\xadni\\xadør, ener\\xadgi\\xadin\\xadge\\xadni\\xadør', 'Pro\\xadduk\\xadtions\\xadle\\xadder, drifts\\xadchef', 'Pro\\xadduk\\xadtions\\xadin\\xadge\\xadni\\xadør, pro\\xadces\\xado\\xadpe\\xadra\\xadtør']\n",
      "['IT-manager,  IT-pro\\xadjekt\\xadle\\xadder', 'HR-assistent, re\\xadk\\xadrut\\xadte\\xadrings\\xadkon\\xadsu\\xadlent', 'Ad\\xadmi\\xadni\\xadstre\\xadren\\xadde direktør, CEO', 'Ind\\xadkøbs\\xadchef, af\\xadde\\xadlings\\xadle\\xadder, lo\\xadgi\\xadstik\\xadchef', 'Fre\\xadelan\\xadcer', 'Pro\\xadjekt\\xadle\\xadder, project manager', 'Salgschef, sales manager', 'Skole\\xadle\\xadder, for\\xadstan\\xadder, rektor', 'Øko\\xadno\\xadmi\\xadchef, regn\\xadskabs\\xadchef', 'Pro\\xadjekt\\xadle\\xaddel\\xadse, ledelse i praksis', 'Pro\\xadduk\\xadtions\\xadle\\xadder, drifts\\xadchef', 'Bu\\xadtiks\\xadchef, store manager', 'For\\xadret\\xadnings\\xadud\\xadvik\\xadler, bæ\\xadre\\xaddyg\\xadtig\\xadheds\\xadkon\\xadsu\\xadlent']\n",
      "['Dagplejer, barnepige, au pair', 'Kos\\xadme\\xadto\\xadlog, frisør', 'Kok, er\\xadnæ\\xadrings\\xadas\\xadsi\\xadstent, tjener', 'Salgs\\xadas\\xadsi\\xadstent, bu\\xadtiksas\\xadsi\\xadstent', 'Ser\\xadvi\\xadce\\xadme\\xadd\\xadar\\xadbej\\xadder, par\\xadke\\xadrings\\xadvagt', 'Ren\\xadgø\\xadrings\\xadas\\xadsi\\xadstent, sanitør', 'Vicevært, pedel', 'Pizzabud, postbud, cykelbud', 'Vagt, brandmand, livredder', 'Bu\\xadtiks\\xadchef, store manager']\n",
      "['Murer, brolægger, fugt\\xadtek\\xadni\\xadker', 'Gartner, agronom, dy\\xadre\\xadpas\\xadser', 'Mejerist, slagter, bager', 'Glar\\xadme\\xadster, tagdækker, montør', 'Pro\\xadduk\\xadtions\\xadme\\xadd\\xadar\\xadbej\\xadder, pro\\xadces\\xado\\xadpe\\xadra\\xadtør, in\\xaddu\\xadstri\\xadme\\xadd\\xadar\\xadbej\\xadder', 'La\\xadger\\xadme\\xadd\\xadar\\xadbej\\xadder, re\\xadser\\xadve\\xaddel\\xads\\xadeks\\xadpe\\xaddi\\xadent', 'Elek\\xadtri\\xadker, el-in\\xadstal\\xadla\\xadtør, au\\xadto\\xadma\\xadtik\\xadtek\\xadni\\xadker', 'Chauffør, skibs\\xadfø\\xadrer, vognmand', 'Smed, svejser, værk\\xadtøjs\\xadma\\xadger', 'Mø\\xadbel\\xadpol\\xadstrer, guldsmed, dekoratør', 'Mekaniker, au\\xadto\\xadla\\xadke\\xadrer', 'Blik\\xadkensla\\xadger, vvs, kø\\xadlemontør', 'Maler, sand\\xadblæ\\xadser, in\\xaddu\\xadstri\\xadla\\xadke\\xadrer', 'Mø\\xadbels\\xadned\\xadker, tr\\xadælast\\xadsæl\\xadger, ma\\xadskin\\xads\\xadned\\xadker']\n",
      "['Kom\\xadmu\\xadni\\xadka\\xadtions\\xadme\\xadd\\xadar\\xadbej\\xadder, jour\\xadna\\xadlist, tekst\\xadfor\\xadfat\\xadter', 'Kampag\\xadne\\xadme\\xadd\\xadar\\xadbej\\xadder, mar\\xadke\\xadting\\xadko\\xador\\xaddi\\xadna\\xadtor, SEO manager', 'Phoner, te\\xadle\\xadfon\\xadsæl\\xadger, te\\xadle\\xadfo\\xadnin\\xadter\\xadviewer', 'Account manager, sælger, salgs\\xadkon\\xadsu\\xadlent', 'Ejen\\xaddoms\\xadmæg\\xadler', 'Mu\\xadse\\xadums\\xadin\\xadspek\\xadtør, kul\\xadtur\\xadfor\\xadmid\\xadler, sog\\xadne\\xadpræst', 'Salgschef, sales manager', 'Grafiker, fotograf, trykker, web\\xadde\\xadsig\\xadner', 'Designer, in\\xaddret\\xadnings\\xadkon\\xadsu\\xadlent, dekoratør', 'SAP, sociale medier, digital mar\\xadkeds\\xadfø\\xadring', 'Franchise, forpagter']\n",
      "['Pæ\\xadda\\xadgog\\xadmed\\xadhjæl\\xadper, bør\\xadne\\xadha\\xadve\\xadklas\\xadse\\xadlæ\\xadrer, pædagog', 'Fol\\xadke\\xadsko\\xadle\\xadlæ\\xadrer, gym\\xadna\\xadsi\\xade\\xadlæ\\xadrer, faglærer', 'Bi\\xadbli\\xado\\xadte\\xadkar, arkivar, in\\xadfor\\xadma\\xadtions\\xadspe\\xadci\\xada\\xadlist', 'Lektor, adjunkt, professor, forsker, ph.d.', 'Skole\\xadle\\xadder, for\\xadstan\\xadder, rektor', 'Un\\xadder\\xadvi\\xadser, ud\\xaddan\\xadnel\\xadses\\xadvej\\xadle\\xadder, stu\\xaddi\\xade\\xadvej\\xadle\\xadder']\n",
      "['Ejen\\xaddoms\\xadmæg\\xadler', 'Vicevært, pedel', 'Bank\\xadrå\\xadd\\xadgi\\xadver, taksator, skadechef', 'Indkøber, ind\\xadkøbsas\\xadsi\\xadstent', 'Advokat, jurist, per\\xadson\\xadda\\xadta', 'Kon\\xadto\\xadras\\xadsi\\xadstent, kun\\xadde\\xadser\\xadvi\\xadce', 'Kon\\xadto\\xadre\\xadlev, øko\\xadno\\xadmi\\xade\\xadlev, fi\\xadnan\\xadse\\xadlev', 'Speditør, disponent, supply chain', 'Virk\\xadsom\\xadheds\\xadkon\\xadsu\\xadlent, job\\xadkon\\xadsu\\xadlent', 'Tolk, over\\xadsæt\\xadter, kor\\xadre\\xadspon\\xaddent', 'Sekretær, re\\xadcep\\xadtio\\xadnist, sko\\xadle\\xadse\\xadkre\\xadtær', 'Bogholder, con\\xadtrol\\xadler, økonom', 'Øko\\xadno\\xadmi\\xadchef, regn\\xadskabs\\xadchef', 'SAP, Excel, PRINCE2', 'Fuld\\xadmæg\\xadtig, AC´er, ana\\xadly\\xadti\\xadker']\n",
      "['Re\\xadser\\xadve\\xadlæ\\xadge, overlæge', 'Sy\\xadgeple\\xadjer\\xadske, am\\xadbu\\xadlan\\xadce\\xadred\\xadder, jor\\xadde\\xadmo\\xadder', 'Virk\\xadsom\\xadheds\\xadkon\\xadsu\\xadlent, job\\xadkon\\xadsu\\xadlent', 'Fy\\xadsi\\xado\\xadte\\xadra\\xadpe\\xadut, er\\xadgo\\xadte\\xadra\\xadpe\\xadut, au\\xaddi\\xado\\xadlog\\xado\\xadpæd', 'Sosu-assistent, SSH, han\\xaddi\\xadcap\\xadhjæl\\xadper', 'Tandlæge, kli\\xadni\\xadkas\\xadsi\\xadstent, tand\\xadple\\xadjer', 'Læ\\xadge\\xadse\\xadkre\\xadtær', 'So\\xadci\\xadal\\xadrå\\xadd\\xadgi\\xadver, fa\\xadmi\\xadli\\xade\\xadrå\\xadd\\xadgi\\xadver, behandler', 'Psykolog, psy\\xadko\\xadte\\xadra\\xadpe\\xadut', 'Radiograf, audiolog, portør']\n",
      "['Frivillig, besøgsven, mentor', 'Kon\\xadto\\xadre\\xadlev, øko\\xadno\\xadmi\\xade\\xadlev, fi\\xadnan\\xadse\\xadlev', 'Studiejob, ju\\xadleas\\xadsi\\xadstan\\xadce', 'Prak\\xadti\\xadkant, in\\xadterns\\xadhip', 'Model, statist', 'Bu\\xadtik\\xadse\\xadlev, salgselev, lærling, trainee', 'Ser\\xadvi\\xadceam\\xadbas\\xadsa\\xaddør, kon\\xadflik\\xadt\\xadhånd\\xadte\\xadring', 'Sergent, konstabel, kri\\xadsesty\\xadring']\n"
     ]
    }
   ],
   "source": [
    "def categoryTagsFunction(request):\n",
    "    soupFromList = request\n",
    "    \n",
    "    categoryTags = soupFromList.find_all(class_=\"category-tags\")\n",
    "\n",
    "    categoryTagsList = []\n",
    "\n",
    "    for e in categoryTags:\n",
    "        categoryTagsList.append(e.text)\n",
    "    return categoryTagsList\n",
    "\n",
    "for i in range(len(requestList)):\n",
    "    print(categoryTagsFunction(request=requestList[i]))"
   ]
  },
  {
   "cell_type": "code",
   "execution_count": 10,
   "metadata": {},
   "outputs": [
    {
     "name": "stdout",
     "output_type": "stream",
     "text": [
      "['723', '224', '250', '439', '148', '38', '269', '2']\n",
      "['532', '309', '383', '706', '356', '303', '577']\n",
      "['250', '288', '25', '584', '5', '668', '67', '256', '109', '1', '303', '319', '127']\n",
      "['35', '19', '908', '665', '92', '382', '154', '12', '69', '319']\n",
      "['222', '184', '140', '140', '388', '357', '644', '234', '314', '18', '587', '114', '53', '22']\n",
      "['183', '334', '45', '677', '36', '113', '67', '53', '23', '1', '15']\n",
      "['1493', '854', '32', '294', '256', '225']\n",
      "['36', '154', '366', '193', '352', '895', '157', '214', '203', '56', '149', '1050', '109', '2', '502']\n",
      "['218', '568', '203', '201', '865', '66', '72', '237', '148', '36']\n",
      "['115', '157', '1691', '164', '15', '401', '0', '303']\n"
     ]
    }
   ],
   "source": [
    "def categoryCountFunction(request):\n",
    "    soupFromList = request\n",
    "\n",
    "    categoryCount = soupFromList.find_all(class_=\"d-inline counter\")\n",
    "\n",
    "    categoryCountList = []\n",
    "\n",
    "    for e in categoryCount:\n",
    "        categoryCountList.append(e.text)\n",
    "    return categoryCountList\n",
    "\n",
    "for i in range(len(requestList)):\n",
    "    print(categoryCountFunction(request=requestList[i]))"
   ]
  },
  {
   "cell_type": "code",
   "execution_count": 11,
   "metadata": {},
   "outputs": [],
   "source": [
    "digits=\"0123456789\"\n",
    "linkAreaList = []\n",
    "categoryAreaList = []\n",
    "\n",
    "for i in range(len(requestList)):\n",
    "    sectionSoupArea = requestList[i].find(class_=\"job-categories bg-light mb-5 mb-lg-7\")\n",
    "    categoriesArea = sectionSoupArea.find_all(class_=\"category\")\n",
    "\n",
    "    for e in categoriesArea:\n",
    "        linkAreaList.append(e[\"href\"])\n",
    "        areaText=\"\"\n",
    "        for i in e.text:\n",
    "            if(i in digits):\n",
    "                break\n",
    "            else:\n",
    "                areaText+=i\n",
    "        categoryAreaList.append(areaText.replace(\"\\n\",\"\").replace(\" \", \"\"))\n",
    "\n",
    "#print(linkAreaList)\n",
    "\n",
    "requestAreaList = []\n",
    "for i in range(len(linkAreaList)):\n",
    "    rArea = requests.get('https://www.jobindex.dk' + linkAreaList[i])\n",
    "    rArea.raise_for_status()\n",
    "    soupArea = bs4.BeautifulSoup(rArea.text, 'html.parser')\n",
    "    requestAreaList.append(soupArea)\n",
    "\n",
    "#print(requestAreaList)\n"
   ]
  },
  {
   "cell_type": "code",
   "execution_count": 12,
   "metadata": {},
   "outputs": [
    {
     "name": "stdout",
     "output_type": "stream",
     "text": [
      "['System\\xadud\\xadvik\\xadlingogpro\\xadgram\\xadme\\xadring', 'Økonomi-ogvirk\\xadsom\\xadheds\\xadsy\\xadste\\xadmer', 'IT-ledelse', 'IT-driftogsupport', 'InternetogWWW', 'Tele-ogda\\xadta\\xadkom\\xadmu\\xadni\\xadka\\xadtion', 'Database', 'IT-kurserforledige', 'Bygge-ogan\\xadlægs\\xadtek\\xadnik', 'Medicinaloglev\\xadneds\\xadmid\\xaddel', 'Elek\\xadtro\\xadtek\\xadnik', 'Ma\\xadskin\\xadtek\\xadnik', 'Kemiogbioteknik', 'Ledelseindenforingeniørogteknik', 'Pro\\xadduk\\xadtions-ogpro\\xadces\\xadtek\\xadnik', 'IT-ledelse', 'PersonaleogHR', 'Top\\xadle\\xaddel\\xadseogbe\\xadsty\\xadrel\\xadse', 'Ledelse', 'Fre\\xadelan\\xadce\\xadkon\\xadsu\\xadlent', 'Pro\\xadjekt\\xadle\\xaddel\\xadse', 'Salgs\\xadle\\xaddel\\xadse', 'In\\xadsti\\xadtu\\xadtions-ogskole\\xadle\\xaddel\\xadse', 'Øko\\xadno\\xadmi\\xadle\\xaddel\\xadse', 'HR-ogle\\xaddel\\xadses\\xadkur\\xadserforledige', 'Ledelseindenforingeniørogteknik', 'De\\xadtail\\xadle\\xaddel\\xadse', 'Virk\\xadsom\\xadheds\\xadud\\xadvik\\xadling', 'Bør\\xadne\\xadpas\\xadning', 'Frisørogpersonligpleje', 'Hotel,re\\xadstau\\xadrantogkøkken', 'De\\xadtail\\xadhan\\xaddel', 'Service', 'Rengøring', 'Ejen\\xaddoms\\xadser\\xadvi\\xadce', 'Budogud\\xadbring\\xadning', 'Sikkerhed', 'De\\xadtail\\xadle\\xaddel\\xadse', 'Byggeoganlæg', 'Landbrug,skovogfiskeri', 'Nærings-ogny\\xaddel\\xadses\\xadmid\\xaddel', 'Tømrerogsnedker', 'In\\xaddu\\xadstri\\xadelpro\\xadduk\\xadtion', 'Lager', 'Elek\\xadtri\\xadker', 'Transport', 'Jernogmetal', 'Tekstilogkunst\\xadhånd\\xadværk', 'Mekanikogauto', 'Blikogrør', 'Malingogover\\xadfla\\xadde\\xadbe\\xadhand\\xadling', 'Træ-ogmø\\xadbe\\xadlin\\xaddu\\xadstri', 'Kom\\xadmu\\xadni\\xadka\\xadtionogjour\\xadna\\xadli\\xadstik', 'Marketing', 'Te\\xadle\\xadmar\\xadke\\xadting', 'Salg', 'Ejen\\xaddoms\\xadmæg\\xadler', 'Kulturogkirke', 'Salgs\\xadle\\xaddel\\xadse', 'Grafisk', 'Designogform\\xadgiv\\xadning', 'Salgs-ogkom\\xadmu\\xadni\\xadka\\xadtions\\xadkur\\xadserforledige', 'Selv\\xadstæn\\xaddigvirk\\xadsom\\xadheds\\xaddrift', 'Pædagog', 'Lærer', 'Bibliotek', 'Forskning', 'In\\xadsti\\xadtu\\xadtions-ogskole\\xadle\\xaddel\\xadse', 'Vok\\xadse\\xadnud\\xaddan\\xadnel\\xadse', 'Ejen\\xaddoms\\xadmæg\\xadler', 'Ejen\\xaddoms\\xadser\\xadvi\\xadce', 'Finansogfor\\xadsik\\xadring', 'Indkøb', 'Jura', 'Kontor', 'Kon\\xadto\\xadre\\xadlev', 'Logistikogspedition', 'Offentligad\\xadmi\\xadni\\xadstra\\xadtion', 'Over\\xadsæt\\xadtel\\xadseogsprog', 'Sekretærogreception', 'Økonomiogregnskab', 'Øko\\xadno\\xadmi\\xadle\\xaddel\\xadse', 'Kontor-ogøko\\xadno\\xadmi\\xadkur\\xadserforledige', 'Akademiskogpolitiskarbejde', 'Læge', 'Sy\\xadgeple\\xadjer\\xadskeogjor\\xadde\\xadmo\\xadder', 'Offentligad\\xadmi\\xadni\\xadstra\\xadtion', 'Terapioggenop\\xadtræ\\xadning', 'Plejeogomsorg', 'Tandlægeogkli\\xadnik\\xadper\\xadso\\xadna\\xadle', 'Læ\\xadge\\xadse\\xadkre\\xadtær', 'So\\xadci\\xadal\\xadrå\\xadd\\xadgiv\\xadning', 'Psykologiogpsykiatri', 'Teknisksund\\xadheds\\xadar\\xadbej\\xadde', 'Fri\\xadvil\\xadligtarbejde', 'Kon\\xadto\\xadre\\xadlev', 'Studiejobogfri\\xadtidsjob', 'Stu\\xaddi\\xade\\xadprak\\xadtik', 'Øvrige', 'Elev\\xadplad\\xadser', 'Øvrigekurserforledige', 'Forsvarogef\\xadter\\xadret\\xadning']\n"
     ]
    }
   ],
   "source": [
    "print(categoryAreaList)"
   ]
  },
  {
   "cell_type": "code",
   "execution_count": 13,
   "metadata": {},
   "outputs": [
    {
     "name": "stdout",
     "output_type": "stream",
     "text": [
      "['386', '75', '29', '27', '41', '214', '89', '0', '39', '0', '0', '24', '714']\n",
      "['125', '18', '8', '7', '19', '62', '26', '0', '1', '1', '0', '6', '222']\n",
      "['135', '19', '7', '10', '20', '70', '38', '0', '0', '3', '0', '6', '245']\n",
      "['212', '32', '41', '17', '43', '109', '58', '0', '25', '3', '0', '20', '427']\n",
      "['73', '17', '7', '13', '10', '36', '12', '0', '3', '0', '0', '1', '147']\n",
      "['20', '9', '7', '1', '2', '6', '11', '0', '0', '2', '0', '5', '36']\n",
      "['172', '37', '7', '6', '17', '69', '25', '0', '1', '0', '0', '13', '268']\n",
      "['0', '0', '0', '0', '0', '0', '0', '0', '0', '0', '0', '0', '0']\n",
      "['216', '57', '66', '44', '44', '145', '81', '0', '15', '5', '0', '5', '524']\n",
      "['157', '52', '33', '15', '10', '37', '28', '0', '7', '1', '1', '14', '302']\n",
      "['112', '63', '37', '33', '35', '126', '77', '0', '17', '2', '0', '20', '378']\n",
      "['191', '79', '73', '74', '86', '227', '130', '1', '17', '3', '0', '30', '700']\n",
      "['168', '85', '39', '22', '12', '46', '40', '0', '9', '2', '0', '9', '353']\n",
      "['93', '29', '37', '23', '25', '81', '51', '0', '11', '3', '0', '14', '299']\n",
      "['157', '74', '67', '48', '46', '148', '104', '0', '14', '2', '0', '19', '571']\n",
      "['135', '19', '7', '10', '20', '70', '38', '0', '0', '3', '0', '6', '245']\n",
      "['141', '25', '16', '15', '15', '43', '40', '0', '16', '4', '0', '18', '273']\n",
      "['6', '2', '2', '1', '0', '11', '3', '0', '0', '0', '0', '0', '25']\n",
      "['242', '48', '53', '47', '40', '124', '70', '0', '48', '14', '0', '27', '561']\n",
      "['3', '2', '2', '2', '3', '2', '2', '0', '0', '0', '0', '0', '5']\n",
      "['288', '52', '45', '42', '58', '161', '80', '0', '31', '4', '0', '33', '643']\n",
      "['22', '9', '7', '8', '8', '27', '15', '0', '2', '0', '0', '4', '67']\n",
      "['73', '32', '42', '21', '15', '46', '25', '2', '6', '9', '0', '9', '245']\n",
      "['44', '7', '6', '5', '7', '28', '12', '0', '0', '3', '0', '5', '105']\n",
      "['0', '0', '0', '0', '0', '0', '0', '0', '0', '0', '0', '0', '0']\n",
      "['93', '29', '37', '23', '25', '81', '51', '0', '11', '3', '0', '14', '299']\n",
      "['132', '34', '45', '17', '19', '62', '30', '0', '2', '3', '1', '4', '312']\n",
      "['62', '12', '4', '7', '6', '39', '18', '0', '3', '0', '0', '7', '127']\n",
      "['5', '3', '2', '6', '5', '6', '8', '0', '1', '0', '0', '0', '35']\n",
      "['8', '3', '1', '0', '4', '2', '0', '1', '5', '0', '0', '0', '19']\n",
      "['329', '82', '92', '74', '87', '174', '89', '6', '82', '6', '1', '14', '892']\n",
      "['225', '99', '95', '57', '67', '138', '92', '11', '20', '0', '0', '1', '660']\n",
      "['35', '13', '9', '4', '8', '15', '15', '0', '0', '1', '0', '1', '91']\n",
      "['105', '41', '47', '35', '38', '89', '41', '2', '10', '2', '0', '2', '373']\n",
      "['70', '9', '19', '11', '9', '31', '11', '1', '2', '0', '0', '0', '152']\n",
      "['7', '1', '2', '0', '0', '4', '2', '0', '2', '0', '0', '0', '12']\n",
      "['23', '13', '6', '4', '2', '9', '15', '0', '0', '0', '0', '2', '65']\n",
      "['132', '34', '45', '17', '19', '62', '30', '0', '2', '3', '1', '4', '312']\n",
      "['59', '31', '29', '23', '20', '57', '46', '0', '1', '2', '0', '4', '212']\n",
      "['32', '11', '24', '13', '20', '58', '43', '1', '2', '1', '1', '3', '182']\n",
      "['30', '24', '17', '9', '9', '40', '27', '0', '1', '2', '1', '3', '137']\n",
      "['45', '15', '26', '9', '14', '31', '25', '2', '3', '3', '0', '5', '134']\n",
      "['46', '30', '41', '38', '34', '130', '77', '0', '30', '3', '0', '6', '384']\n",
      "['66', '16', '46', '29', '25', '113', '75', '0', '37', '2', '0', '3', '355']\n",
      "['157', '67', '89', '68', '75', '189', '152', '1', '16', '9', '0', '13', '629']\n",
      "['71', '14', '38', '26', '18', '38', '34', '4', '14', '6', '0', '10', '225']\n",
      "['48', '25', '40', '37', '38', '90', '66', '0', '8', '5', '0', '6', '309']\n",
      "['5', '2', '1', '0', '0', '9', '2', '0', '1', '1', '0', '1', '17']\n",
      "['108', '63', '75', '61', '62', '166', '128', '1', '23', '4', '0', '10', '582']\n",
      "['35', '10', '18', '14', '7', '30', '18', '0', '0', '3', '0', '3', '110']\n",
      "['17', '6', '8', '2', '5', '11', '9', '1', '0', '1', '0', '2', '50']\n",
      "['5', '3', '2', '1', '4', '9', '5', '0', '1', '0', '0', '0', '22']\n",
      "['105', '8', '9', '8', '8', '35', '11', '0', '3', '1', '0', '6', '177']\n",
      "['146', '29', '17', '20', '14', '94', '35', '0', '14', '0', '0', '17', '319']\n",
      "['32', '3', '1', '7', '2', '7', '4', '0', '0', '0', '0', '1', '43']\n",
      "['260', '88', '76', '76', '73', '196', '101', '0', '118', '0', '0', '30', '653']\n",
      "['12', '7', '2', '3', '7', '8', '3', '1', '0', '0', '0', '0', '36']\n",
      "['29', '9', '12', '6', '15', '27', '20', '2', '2', '0', '0', '0', '113']\n",
      "['22', '9', '7', '8', '8', '27', '15', '0', '2', '0', '0', '4', '67']\n",
      "['22', '5', '3', '6', '5', '18', '3', '0', '0', '0', '0', '0', '53']\n",
      "['8', '4', '1', '1', '0', '9', '4', '0', '1', '0', '0', '1', '22']\n",
      "['0', '0', '0', '0', '0', '0', '0', '0', '0', '0', '0', '0', '0']\n",
      "['4', '3', '1', '0', '1', '4', '2', '1', '1', '0', '0', '0', '15']\n",
      "['452', '169', '198', '110', '135', '322', '135', '7', '27', '25', '0', '26', '1455']\n",
      "['225', '85', '174', '66', '61', '174', '97', '7', '142', '11', '1', '14', '832']\n",
      "['16', '1', '1', '2', '2', '4', '5', '0', '3', '1', '0', '2', '31']\n",
      "['151', '61', '15', '26', '35', '48', '3', '0', '22', '0', '1', '3', '291']\n",
      "['73', '32', '42', '21', '15', '46', '25', '2', '6', '9', '0', '9', '245']\n",
      "['67', '13', '34', '19', '16', '52', '24', '2', '0', '6', '1', '8', '217']\n",
      "['12', '7', '2', '3', '7', '8', '3', '1', '0', '0', '0', '0', '36']\n",
      "['70', '9', '19', '11', '9', '31', '11', '1', '2', '0', '0', '0', '152']\n",
      "['215', '36', '19', '16', '32', '80', '27', '0', '7', '2', '0', '8', '364']\n",
      "['73', '15', '20', '10', '13', '54', '39', '0', '3', '2', '0', '6', '191']\n",
      "['196', '22', '22', '13', '15', '67', '36', '1', '6', '6', '0', '12', '342']\n",
      "['375', '67', '72', '62', '48', '183', '96', '3', '43', '8', '0', '35', '859']\n",
      "['48', '7', '13', '14', '12', '44', '20', '0', '0', '0', '0', '0', '153']\n",
      "['61', '13', '21', '20', '9', '61', '54', '0', '13', '2', '0', '4', '211']\n",
      "['87', '25', '28', '9', '15', '28', '26', '2', '25', '6', '0', '6', '195']\n",
      "['30', '2', '5', '3', '3', '10', '4', '0', '1', '0', '1', '2', '54']\n",
      "['82', '18', '7', '13', '7', '16', '15', '0', '4', '1', '0', '1', '148']\n",
      "['502', '72', '79', '53', '68', '235', '126', '2', '35', '4', '0', '23', '1035']\n",
      "['44', '7', '6', '5', '7', '28', '12', '0', '0', '3', '0', '5', '105']\n",
      "['0', '0', '0', '0', '0', '1', '0', '0', '0', '0', '0', '0', '1']\n",
      "['330', '37', '30', '26', '18', '60', '28', '0', '13', '10', '0', '17', '483']\n",
      "['57', '10', '27', '19', '18', '54', '19', '4', '44', '3', '10', '16', '202']\n",
      "['170', '65', '101', '35', '32', '113', '51', '1', '299', '20', '0', '27', '540']\n",
      "['87', '25', '28', '9', '15', '28', '26', '2', '25', '6', '0', '6', '195']\n",
      "['71', '23', '16', '13', '13', '54', '13', '1', '18', '5', '0', '5', '195']\n",
      "['234', '140', '146', '65', '76', '128', '101', '4', '69', '14', '0', '14', '848']\n",
      "['17', '14', '13', '6', '3', '12', '6', '0', '20', '1', '0', '1', '65']\n",
      "['27', '8', '11', '6', '3', '16', '3', '0', '17', '1', '0', '1', '71']\n",
      "['84', '22', '41', '25', '18', '55', '16', '2', '22', '3', '0', '3', '234']\n",
      "['56', '13', '23', '15', '11', '28', '15', '0', '5', '5', '0', '6', '143']\n",
      "['13', '4', '5', '6', '6', '7', '5', '1', '2', '0', '1', '1', '35']\n",
      "['57', '9', '7', '9', '7', '19', '6', '1', '2', '0', '0', '4', '111']\n",
      "['48', '7', '13', '14', '12', '44', '20', '0', '0', '0', '0', '0', '153']\n",
      "['719', '165', '166', '100', '116', '341', '186', '5', '115', '2', '1', '10', '1663']\n",
      "['71', '6', '10', '12', '9', '44', '18', '0', '1', '1', '0', '9', '153']\n",
      "['4', '1', '2', '2', '2', '5', '4', '0', '8', '0', '0', '1', '14']\n",
      "['85', '36', '45', '43', '75', '112', '67', '4', '1', '0', '0', '2', '398']\n",
      "['0', '0', '0', '0', '0', '0', '0', '0', '0', '0', '0', '0', '0']\n",
      "['57', '18', '46', '2', '46', '87', '46', '5', '20', '7', '0', '14', '289']\n"
     ]
    }
   ],
   "source": [
    "def categoryAreaCount(requestList):\n",
    "\n",
    "    categoryAreaCountList = []\n",
    "\n",
    "    sectionSoup1 = requestList.find(class_=\"d-none d-sm-block d-xl-none col-sm-6\")\n",
    "    sectionSoup2 = sectionSoup1.find_next(class_=\"d-none d-sm-block d-xl-none col-sm-6\")\n",
    "\n",
    "    categoryAreaCount1 = sectionSoup1.find_all(class_=\"d-inline counter\")\n",
    "    categoryAreaCount2 = sectionSoup2.find_all(class_=\"d-inline counter\")\n",
    "\n",
    "    categoryAreaCount = categoryAreaCount1 + categoryAreaCount2\n",
    "\n",
    "    for e in categoryAreaCount:\n",
    "        categoryAreaCountList.append(e.text)\n",
    "    return categoryAreaCountList\n",
    "\n",
    "for i in range(len(requestAreaList)):\n",
    "    print(categoryAreaCount(requestList=requestAreaList[i]))"
   ]
  },
  {
   "cell_type": "code",
   "execution_count": 14,
   "metadata": {},
   "outputs": [
    {
     "name": "stdout",
     "output_type": "stream",
     "text": [
      "['Stor\\xadkø\\xadben\\xadhavn', 'Nord\\xads\\xadjæl\\xadland', 'RegionSjælland', 'Fyn', 'RegionNord\\xadjyl\\xadland', 'RegionMidtjyl\\xadland', 'Syd\\xadjyl\\xadland', 'Bornholm', 'Skåne', 'Grønland', 'Færøerne', 'Udlandet', 'Danmark']\n"
     ]
    }
   ],
   "source": [
    "def categoryAreas(requestList):\n",
    "    digits=\"0123456789\"\n",
    " \n",
    "    sectionSoup1 = requestList.find(class_=\"d-none d-sm-block d-xl-none col-sm-6\")\n",
    "    sectionSoup2 = sectionSoup1.find_next(class_=\"d-none d-sm-block d-xl-none col-sm-6\")\n",
    "\n",
    "    categoryAreas1 = sectionSoup1.find_all(class_=\"category\")\n",
    "    categoryAreas2 = sectionSoup2.find_all(class_=\"category\")\n",
    "\n",
    "    categoryAreas = categoryAreas1 + categoryAreas2\n",
    "\n",
    "    categoryAreasList = []\n",
    "\n",
    "    for e in categoryAreas:\n",
    "        text=\"\"\n",
    "        for i in e.text:\n",
    "            if(i in digits):\n",
    "                break\n",
    "            else:\n",
    "                text+=i\n",
    "        categoryAreasList.append(text.replace(\"\\n\",\"\").replace(\" \", \"\"))\n",
    "    return categoryAreasList\n",
    "\n",
    "print(categoryAreas(requestList=requestAreaList[0]))"
   ]
  },
  {
   "cell_type": "code",
   "execution_count": 15,
   "metadata": {},
   "outputs": [],
   "source": [
    "def categoryTable(categoriesList, categoryTagsList, categoryCountList): \n",
    "    dataList = {'Kategorier': categoriesList,\n",
    "                'Tags': categoryTagsList,\n",
    "                'Ledige jobs': categoryCountList}\n",
    "    categoryData = pd.DataFrame(dataList)\n",
    "    return categoryData\n",
    "\n",
    "def saveDataFrameToCSV(number):\n",
    "    output = categoryTable(categoriesFunction(request=requestList[number]), categoryTagsFunction(request=requestList[number]), categoryCountFunction(request=requestList[number]))\n",
    "    output.to_csv(\"csv/\" + categoriesList[number] + \".csv\", sep='\\t', encoding='utf-8')\n",
    "\n",
    "saveDataFrameToCSV(0)"
   ]
  },
  {
   "cell_type": "code",
   "execution_count": 16,
   "metadata": {},
   "outputs": [],
   "source": [
    "def areaTable(categoriesList, areaList, areaCountList):\n",
    "    dataList = {'Områder': areaList,\n",
    "                'Antal efter område': areaCountList}\n",
    "    areaData = pd.DataFrame(dataList)\n",
    "    areaData.style.set_caption(categoriesList)\n",
    "    return areaData\n",
    "\n",
    "def saveAreaDataFrameToCSV(number):\n",
    "    output = areaTable(categoryAreaList[number], categoryAreas(requestList=requestAreaList[number]), categoryAreaCount(requestList=requestAreaList[number]))\n",
    "    output.to_csv(\"csv/områdeData/\" + categoryAreaList[number] + \".csv\", sep='\\t', encoding='utf-8')\n",
    "\n",
    "for i in range(len(categoryAreaList)):\n",
    "    saveAreaDataFrameToCSV(i)"
   ]
  },
  {
   "cell_type": "code",
   "execution_count": null,
   "metadata": {},
   "outputs": [],
   "source": []
  }
 ],
 "metadata": {
  "kernelspec": {
   "display_name": "base",
   "language": "python",
   "name": "python3"
  },
  "language_info": {
   "codemirror_mode": {
    "name": "ipython",
    "version": 3
   },
   "file_extension": ".py",
   "mimetype": "text/x-python",
   "name": "python",
   "nbconvert_exporter": "python",
   "pygments_lexer": "ipython3",
   "version": "3.8.5"
  },
  "orig_nbformat": 4
 },
 "nbformat": 4,
 "nbformat_minor": 2
}
