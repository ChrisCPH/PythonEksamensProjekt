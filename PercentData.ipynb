{
 "cells": [
  {
   "cell_type": "code",
   "execution_count": 13,
   "metadata": {},
   "outputs": [],
   "source": [
    "import pandas as pd\n",
    "import matplotlib.pyplot as plt\n",
    "%matplotlib inline\n",
    "import numpy as np"
   ]
  },
  {
   "cell_type": "code",
   "execution_count": 14,
   "metadata": {},
   "outputs": [],
   "source": [
    "def areaPercent(year):\n",
    "    areaPercentArray = []\n",
    "    data = pd.read_csv('./csv/archiveData/dataByYear/'+year+'omraade.csv')\n",
    "    dataArray = np.array(data[\"Antal\"])\n",
    "    dataSum = np.sum(dataArray)\n",
    "    for j in range(0, dataArray.size, 1):\n",
    "        percentArray = (dataArray[j]/dataSum)*100\n",
    "        areaPercentArray.append(percentArray)\n",
    "    dataList = {'Navn': data[\"Navn\"],\n",
    "                'Procent': areaPercentArray}\n",
    "    areaData = pd.DataFrame(dataList)\n",
    "    return areaData\n",
    "\n",
    "#areaPercent(\"2008\")"
   ]
  },
  {
   "cell_type": "code",
   "execution_count": 15,
   "metadata": {},
   "outputs": [],
   "source": [
    "def saveAreaPercentDataFrameToCSV(year):\n",
    "    output = areaPercent(year)\n",
    "    output.to_csv(\"csv/archiveData/percentDataByYear/\"+year+\"omraadeprocent.csv\", sep=',', encoding='utf-8')\n",
    "\n",
    "for i in range(2007, 2023, 1):\n",
    "    saveAreaPercentDataFrameToCSV(str(i))"
   ]
  },
  {
   "cell_type": "code",
   "execution_count": 16,
   "metadata": {},
   "outputs": [],
   "source": [
    "def categoryPercent(year):\n",
    "    areaPercentArray = []\n",
    "    data = pd.read_csv('./csv/archiveData/dataByYear/'+year+'kanal.csv')\n",
    "    dataArray = np.array(data[\"Antal\"])\n",
    "    dataSum = np.sum(dataArray)\n",
    "    for j in range(0, dataArray.size, 1):\n",
    "        percentArray = (dataArray[j]/dataSum)*100\n",
    "        areaPercentArray.append(percentArray)\n",
    "    dataList = {'Navn': data[\"Navn\"],\n",
    "                'Procent': areaPercentArray}\n",
    "    areaData = pd.DataFrame(dataList)\n",
    "    return areaData\n",
    "\n",
    "#categoryPercent(\"2008\")"
   ]
  },
  {
   "cell_type": "code",
   "execution_count": 17,
   "metadata": {},
   "outputs": [],
   "source": [
    "def saveCategoryPercentDataFrameToCSV(year):\n",
    "    output = categoryPercent(year)\n",
    "    output.to_csv(\"csv/archiveData/percentDataByYear/\"+year+\"kanalprocent.csv\", sep=',', encoding='utf-8')\n",
    "\n",
    "for i in range(2007, 2023, 1):\n",
    "    saveCategoryPercentDataFrameToCSV(str(i))"
   ]
  },
  {
   "cell_type": "code",
   "execution_count": 18,
   "metadata": {},
   "outputs": [],
   "source": [
    "def categoryPercentByYear(category):\n",
    "    newDf = []\n",
    "    for i in range(2007, 2023, 1):\n",
    "        df = pd.read_csv(\"csv/archiveData/percentDataByYear/\"+str(i)+\"kanalprocent.csv\")\n",
    "        newDf.append(df.loc[df['Navn'] == category, [\"Procent\"]])\n",
    "    return newDf"
   ]
  },
  {
   "cell_type": "code",
   "execution_count": 19,
   "metadata": {},
   "outputs": [],
   "source": [
    "def categoryPercentTable(count):\n",
    "    years = []\n",
    "    for i in range(2007, 2023, 1):\n",
    "        years.append(i)\n",
    "    dataList = {'År': years,\n",
    "                'Antal': count}\n",
    "    categoryData = pd.DataFrame(dataList)\n",
    "    return categoryData\n",
    "\n",
    "def saveCategoryPercentDataFrameToCSV(category):\n",
    "    output = categoryPercentTable(count=categoryPercentByYear(category))\n",
    "    output.to_csv(\"csv/archiveData/categoryPercentData/\"+category+\" Procent.csv\", sep=',', encoding='utf-8')\n",
    "\n",
    "saveCategoryPercentDataFrameToCSV(\"Kontor og økonomi\")\n",
    "saveCategoryPercentDataFrameToCSV(\"Handel og service\")\n",
    "saveCategoryPercentDataFrameToCSV(\"Øvrige stillinger\")\n",
    "saveCategoryPercentDataFrameToCSV(\"Social og sundhed\")\n",
    "saveCategoryPercentDataFrameToCSV(\"Undervisning\")\n",
    "saveCategoryPercentDataFrameToCSV(\"Industri og håndværk\")\n",
    "saveCategoryPercentDataFrameToCSV(\"Ledelse og personale\")\n",
    "saveCategoryPercentDataFrameToCSV(\"Ingeniør og teknik\")\n",
    "saveCategoryPercentDataFrameToCSV(\"Salg og kommunikation\")\n",
    "saveCategoryPercentDataFrameToCSV(\"Informationsteknologi\")"
   ]
  },
  {
   "cell_type": "code",
   "execution_count": 20,
   "metadata": {},
   "outputs": [],
   "source": [
    "def areaPercentByYear(area):\n",
    "    returnDf = []\n",
    "    for i in range(2007, 2023, 1):\n",
    "        df = pd.read_csv(\"csv/archiveData/percentDataByYear/\"+str(i)+\"omraadeprocent.csv\")\n",
    "        newDf = (df.loc[df['Navn'] == area, [\"Procent\"]])\n",
    "        if newDf.empty:\n",
    "            newDf = \"    Antal 10    0\"\n",
    "        returnDf.append(newDf)\n",
    "    return returnDf"
   ]
  },
  {
   "cell_type": "code",
   "execution_count": 21,
   "metadata": {},
   "outputs": [],
   "source": [
    "def areaPercentTable(count):\n",
    "    years = []\n",
    "    for i in range(2007, 2023, 1):\n",
    "        years.append(i)\n",
    "    dataList = {'År': years,\n",
    "                'Antal': count}\n",
    "    categoryData = pd.DataFrame(dataList)\n",
    "    return categoryData\n",
    "\n",
    "def saveAreaPercentDataFrameToCSV(area):\n",
    "    output = areaPercentTable(count=areaPercentByYear(area))\n",
    "    output.to_csv(\"csv/archiveData/areaPercentData/\"+area+\" Procent.csv\", sep=',', encoding='utf-8')\n",
    "\n",
    "saveAreaPercentDataFrameToCSV(\"Storkøbenhavn\")\n",
    "saveAreaPercentDataFrameToCSV(\"Region Midtjylland\")\n",
    "saveAreaPercentDataFrameToCSV(\"Sydjylland\")\n",
    "saveAreaPercentDataFrameToCSV(\"Nordsjælland\")\n",
    "saveAreaPercentDataFrameToCSV(\"Region Nordjylland\")\n",
    "saveAreaPercentDataFrameToCSV(\"Fyn\")\n",
    "saveAreaPercentDataFrameToCSV(\"Region Sjælland\")\n",
    "saveAreaPercentDataFrameToCSV(\"Udlandet\")\n",
    "saveAreaPercentDataFrameToCSV(\"Bornholm\")\n",
    "saveAreaPercentDataFrameToCSV(\"Grønland\")\n",
    "saveAreaPercentDataFrameToCSV(\"Skåne\")"
   ]
  },
  {
   "cell_type": "code",
   "execution_count": 22,
   "metadata": {},
   "outputs": [],
   "source": [
    "def fixPercentData(info, name):\n",
    "    newDf = []\n",
    "    df = pd.read_csv(\"csv/archiveData/\"+info+\"PercentData/\"+name+\" Procent.csv\")\n",
    "    list = df[\"Antal\"].str.split()\n",
    "    for i in range (0, len(df.index), 1):\n",
    "        newDf.append(list[i][2])\n",
    "    return newDf\n",
    "#fixedCountList(\"Storkøbenhavn\")\n",
    "\n",
    "def saveFixToDataFrameToCSV(info, name):\n",
    "    output = categoryPercentTable(count=fixPercentData(info, name))\n",
    "    output.to_csv(\"csv/archiveData/\"+info+\"PercentData/\"+name+\" Procent.csv\", sep=',', encoding='utf-8')\n",
    "\n",
    "saveFixToDataFrameToCSV(\"area\", \"Storkøbenhavn\")\n",
    "saveFixToDataFrameToCSV(\"area\",\"Region Midtjylland\")\n",
    "saveFixToDataFrameToCSV(\"area\",\"Sydjylland\")\n",
    "saveFixToDataFrameToCSV(\"area\",\"Nordsjælland\")\n",
    "saveFixToDataFrameToCSV(\"area\",\"Region Nordjylland\")\n",
    "saveFixToDataFrameToCSV(\"area\",\"Fyn\")\n",
    "saveFixToDataFrameToCSV(\"area\",\"Region Sjælland\")\n",
    "saveFixToDataFrameToCSV(\"area\",\"Udlandet\")\n",
    "saveFixToDataFrameToCSV(\"area\",\"Bornholm\")\n",
    "saveFixToDataFrameToCSV(\"area\",\"Grønland\")\n",
    "saveFixToDataFrameToCSV(\"area\",\"Skåne\")\n",
    "saveFixToDataFrameToCSV(\"category\", \"Kontor og økonomi\")\n",
    "saveFixToDataFrameToCSV(\"category\",\"Handel og service\")\n",
    "saveFixToDataFrameToCSV(\"category\",\"Øvrige stillinger\")\n",
    "saveFixToDataFrameToCSV(\"category\",\"Social og sundhed\")\n",
    "saveFixToDataFrameToCSV(\"category\",\"Undervisning\")\n",
    "saveFixToDataFrameToCSV(\"category\",\"Industri og håndværk\")\n",
    "saveFixToDataFrameToCSV(\"category\",\"Ledelse og personale\")\n",
    "saveFixToDataFrameToCSV(\"category\",\"Ingeniør og teknik\")\n",
    "saveFixToDataFrameToCSV(\"category\",\"Salg og kommunikation\")\n",
    "saveFixToDataFrameToCSV(\"category\",\"Informationsteknologi\")"
   ]
  }
 ],
 "metadata": {
  "kernelspec": {
   "display_name": "base",
   "language": "python",
   "name": "python3"
  },
  "language_info": {
   "codemirror_mode": {
    "name": "ipython",
    "version": 3
   },
   "file_extension": ".py",
   "mimetype": "text/x-python",
   "name": "python",
   "nbconvert_exporter": "python",
   "pygments_lexer": "ipython3",
   "version": "3.8.5"
  },
  "orig_nbformat": 4
 },
 "nbformat": 4,
 "nbformat_minor": 2
}
